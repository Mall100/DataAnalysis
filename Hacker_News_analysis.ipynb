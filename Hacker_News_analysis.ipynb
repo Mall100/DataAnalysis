{
 "cells": [
  {
   "cell_type": "markdown",
   "metadata": {
    "collapsed": true
   },
   "source": [
    "# Hacker News\n",
    "In this project, we'll work with a data set of submissions to popular technology site [Hacker News](https://news.ycombinator.com/).\n",
    "\n",
    "![](https://s3.amazonaws.com/dq-content/354/hacker_news.jpg)\n",
    "\n",
    "Hacker News is a site started by the startup incubator Y Combinator, where user-submitted stories (known as \"posts\") are voted and commented upon, similar to reddit.\n",
    "\n",
    "Hacker News is extremely popular in technology and startup circles, and posts that make it to the top of Hacker News' listings can get hundreds of thousands of visitors as a result.\n"
   ]
  },
  {
   "cell_type": "code",
   "execution_count": 1,
   "metadata": {
    "collapsed": false
   },
   "outputs": [
    {
     "name": "stdout",
     "output_type": "stream",
     "text": [
      "[['id', 'title', 'url', 'num_points', 'num_comments', 'author', 'created_at'], ['12224879', 'Interactive Dynamic Video', 'http://www.interactivedynamicvideo.com/', '386', '52', 'ne0phyte', '8/4/2016 11:52'], ['10975351', 'How to Use Open Source and Shut the Fuck Up at the Same Time', 'http://hueniverse.com/2016/01/26/how-to-use-open-source-and-shut-the-fuck-up-at-the-same-time/', '39', '10', 'josep2', '1/26/2016 19:30'], ['11964716', \"Florida DJs May Face Felony for April Fools' Water Joke\", 'http://www.thewire.com/entertainment/2013/04/florida-djs-april-fools-water-joke/63798/', '2', '1', 'vezycash', '6/23/2016 22:20'], ['11919867', 'Technology ventures: From Idea to Enterprise', 'https://www.amazon.com/Technology-Ventures-Enterprise-Thomas-Byers/dp/0073523429', '3', '1', 'hswarna', '6/17/2016 0:01']]\n"
     ]
    }
   ],
   "source": [
    "from csv import reader\n",
    "openend_file=open(\"hacker_news.csv\")\n",
    "read_file=reader(openend_file)\n",
    "hn=list(read_file)\n",
    "\n",
    "print(hn[0:5])"
   ]
  },
  {
   "cell_type": "markdown",
   "metadata": {},
   "source": [
    "Removing the header row"
   ]
  },
  {
   "cell_type": "code",
   "execution_count": 2,
   "metadata": {
    "collapsed": false
   },
   "outputs": [
    {
     "name": "stdout",
     "output_type": "stream",
     "text": [
      "['id', 'title', 'url', 'num_points', 'num_comments', 'author', 'created_at']\n",
      "\n",
      "[['12224879', 'Interactive Dynamic Video', 'http://www.interactivedynamicvideo.com/', '386', '52', 'ne0phyte', '8/4/2016 11:52'], ['10975351', 'How to Use Open Source and Shut the Fuck Up at the Same Time', 'http://hueniverse.com/2016/01/26/how-to-use-open-source-and-shut-the-fuck-up-at-the-same-time/', '39', '10', 'josep2', '1/26/2016 19:30'], ['11964716', \"Florida DJs May Face Felony for April Fools' Water Joke\", 'http://www.thewire.com/entertainment/2013/04/florida-djs-april-fools-water-joke/63798/', '2', '1', 'vezycash', '6/23/2016 22:20'], ['11919867', 'Technology ventures: From Idea to Enterprise', 'https://www.amazon.com/Technology-Ventures-Enterprise-Thomas-Byers/dp/0073523429', '3', '1', 'hswarna', '6/17/2016 0:01'], ['10301696', 'Note by Note: The Making of Steinway L1037 (2007)', 'http://www.nytimes.com/2007/11/07/movies/07stein.html?_r=0', '8', '2', 'walterbell', '9/30/2015 4:12']]\n"
     ]
    }
   ],
   "source": [
    "headers=hn[0]\n",
    "hn=hn[1:]\n",
    "print(headers)\n",
    "print(\"\")\n",
    "print(hn[0:5])\n"
   ]
  },
  {
   "cell_type": "markdown",
   "metadata": {
    "collapsed": true
   },
   "source": [
    "Since we're only concerned with post titles beginning with __Ask HN__ or __Show HN__, we'll create new lists of lists containing just the data for those titles."
   ]
  },
  {
   "cell_type": "code",
   "execution_count": 6,
   "metadata": {
    "collapsed": false
   },
   "outputs": [
    {
     "name": "stdout",
     "output_type": "stream",
     "text": [
      "1744\n",
      "1162\n",
      "17194\n"
     ]
    }
   ],
   "source": [
    "ask_posts=[]\n",
    "show_posts=[]\n",
    "other_posts=[]\n",
    "for item in hn:\n",
    "    title=item[1]\n",
    "    if (title.lower()).startswith(\"ask hn\"):\n",
    "        ask_posts.append(item)\n",
    "    elif (title.lower()).startswith(\"show hn\"):\n",
    "        show_posts.append(item)\n",
    "    else:\n",
    "        other_posts.append(item)\n",
    "print(len(ask_posts))\n",
    "print(len(show_posts))\n",
    "print(len(other_posts))\n"
   ]
  },
  {
   "cell_type": "markdown",
   "metadata": {},
   "source": [
    " determine if ask posts or show posts receive more comments on average.\n",
    " "
   ]
  },
  {
   "cell_type": "code",
   "execution_count": 7,
   "metadata": {
    "collapsed": false
   },
   "outputs": [
    {
     "name": "stdout",
     "output_type": "stream",
     "text": [
      "14.038417431192661\n",
      "10.31669535283993\n"
     ]
    }
   ],
   "source": [
    "total_ask_comments=0\n",
    "for item in ask_posts:\n",
    "    num_comments=item[4]\n",
    "    total_ask_comments+=int(num_comments)\n",
    "average_ask_comments=  total_ask_comments/len(ask_posts) \n",
    "\n",
    "total_show_comments=0\n",
    "for item in show_posts:\n",
    "    num_comments=item[4]\n",
    "    total_show_comments+=int(num_comments)\n",
    "average_show_comments=  total_show_comments/len(show_posts) \n",
    "\n",
    "print(average_ask_comments)\n",
    "print(average_show_comments)\n"
   ]
  },
  {
   "cell_type": "markdown",
   "metadata": {},
   "source": [
    "The average number of comments on the ask hn posts are slightly(3.72) higher than the comments on show hn posts\n",
    "\n",
    "Since ask posts are more likely to receive comments, we'll focus our remaining analysis just on these posts.\n",
    "\n",
    "we'll determine if ask posts created at a certain time are more likely to attract comments. We'll use the following steps to perform this analysis:\n",
    "\n",
    "1. Calculate the amount of ask posts created in each hour of the day, along with the number of comments received.\n",
    "2. Calculate the average number of comments ask posts receive by hour created."
   ]
  },
  {
   "cell_type": "code",
   "execution_count": 15,
   "metadata": {
    "collapsed": false
   },
   "outputs": [
    {
     "name": "stdout",
     "output_type": "stream",
     "text": [
      "{'09': 45, '20': 80, '02': 58, '21': 109, '19': 110, '07': 34, '16': 108, '13': 85, '23': 68, '15': 116, '22': 71, '10': 59, '00': 55, '06': 44, '11': 58, '14': 107, '03': 54, '05': 46, '18': 109, '12': 73, '08': 48, '01': 60, '17': 100, '04': 47}\n",
      "{'09': 251, '20': 1722, '02': 1381, '21': 1745, '19': 1188, '07': 267, '16': 1814, '13': 1253, '23': 543, '15': 4477, '22': 479, '10': 793, '00': 447, '06': 397, '11': 641, '14': 1416, '03': 421, '05': 464, '18': 1439, '12': 687, '08': 492, '01': 683, '17': 1146, '04': 337}\n"
     ]
    }
   ],
   "source": [
    "import datetime as dt\n",
    "result_list=[]\n",
    "for item in ask_posts:\n",
    "    created=item[6]\n",
    "    comment=int(item[4])\n",
    "    result_list.append([created,comment])\n",
    "counts_by_hour={}\n",
    "comments_by_hour={}\n",
    "for item in result_list:\n",
    "    hour=item[0]\n",
    "    hour=dt.datetime.strptime(hour,\"%m/%d/%Y %H:%M\")\n",
    "    hour=hour.strftime(\"%H\")\n",
    "    if hour not in counts_by_hour:\n",
    "        counts_by_hour[hour]=1\n",
    "        comments_by_hour[hour]=item[1]\n",
    "    elif hour in counts_by_hour:\n",
    "        counts_by_hour[hour]+=1\n",
    "        comments_by_hour[hour]+=item[1]\n",
    "\n",
    "        \n",
    "print(counts_by_hour) \n",
    "print(comments_by_hour) \n",
    "\n"
   ]
  },
  {
   "cell_type": "markdown",
   "metadata": {},
   "source": [
    "__counts_by_hour__: contains the number of ask posts created during each hour of the day.\n",
    "\n",
    "__comments_by_hour__: contains the corresponding number of comments ask posts created at each hour received.\n",
    "\n",
    "we'll use these two dictionaries to calculate the average number of comments for posts created during each hour of the day."
   ]
  },
  {
   "cell_type": "code",
   "execution_count": 17,
   "metadata": {
    "collapsed": false,
    "scrolled": true
   },
   "outputs": [
    {
     "name": "stdout",
     "output_type": "stream",
     "text": [
      "[['09', 5.5777777777777775], ['20', 21.525], ['02', 23.810344827586206], ['21', 16.009174311926607], ['19', 10.8], ['07', 7.852941176470588], ['16', 16.796296296296298], ['13', 14.741176470588234], ['23', 7.985294117647059], ['15', 38.5948275862069], ['22', 6.746478873239437], ['10', 13.440677966101696], ['00', 8.127272727272727], ['06', 9.022727272727273], ['11', 11.051724137931034], ['14', 13.233644859813085], ['03', 7.796296296296297], ['05', 10.08695652173913], ['18', 13.20183486238532], ['12', 9.41095890410959], ['08', 10.25], ['01', 11.383333333333333], ['17', 11.46], ['04', 7.170212765957447]]\n"
     ]
    }
   ],
   "source": [
    "avg_by_hour=[]\n",
    "for hour in comments_by_hour:\n",
    "    avg_by_hour.append([hour,(comments_by_hour[hour]/counts_by_hour[hour])])\n",
    "print(avg_by_hour)                       "
   ]
  },
  {
   "cell_type": "markdown",
   "metadata": {},
   "source": [
    "Let's finish by sorting the list of lists and printing the five highest values in a format that's easier to read.\n"
   ]
  },
  {
   "cell_type": "code",
   "execution_count": 19,
   "metadata": {
    "collapsed": false,
    "scrolled": true
   },
   "outputs": [
    {
     "name": "stdout",
     "output_type": "stream",
     "text": [
      "[[5.5777777777777775, '09'], [21.525, '20'], [23.810344827586206, '02'], [16.009174311926607, '21'], [10.8, '19'], [7.852941176470588, '07'], [16.796296296296298, '16'], [14.741176470588234, '13'], [7.985294117647059, '23'], [38.5948275862069, '15'], [6.746478873239437, '22'], [13.440677966101696, '10'], [8.127272727272727, '00'], [9.022727272727273, '06'], [11.051724137931034, '11'], [13.233644859813085, '14'], [7.796296296296297, '03'], [10.08695652173913, '05'], [13.20183486238532, '18'], [9.41095890410959, '12'], [10.25, '08'], [11.383333333333333, '01'], [11.46, '17'], [7.170212765957447, '04']]\n",
      "Top 5 Hours for Ask Posts Comments\n",
      "09:00:  5.58 average comments per post\n",
      "20:00:  21.52 average comments per post\n",
      "02:00:  23.81 average comments per post\n",
      "21:00:  16.01 average comments per post\n",
      "19:00:  10.80 average comments per post\n"
     ]
    }
   ],
   "source": [
    "swap_avg_by_hour=[]\n",
    "for item in avg_by_hour:\n",
    "    swap_avg_by_hour.append([item[1],item[0]])\n",
    "print( swap_avg_by_hour)   \n",
    "sorted_swap=sorted(swap_avg_by_hour,reverse=True)\n",
    "print(\"Top 5 Hours for Ask Posts Comments\")\n",
    "for item in swap_avg_by_hour[0:5]:\n",
    "    line=\"{}:00:  {:.2f} average comments per post\".format(item[1],item[0])\n",
    "    print(line)"
   ]
  },
  {
   "cell_type": "markdown",
   "metadata": {},
   "source": [
    "Posts which are posted between 02:00-03:00 hrs records the highest number of average comments per post"
   ]
  }
 ],
 "metadata": {
  "kernelspec": {
   "display_name": "Python 3",
   "language": "python",
   "name": "python3"
  },
  "language_info": {
   "codemirror_mode": {
    "name": "ipython",
    "version": 3
   },
   "file_extension": ".py",
   "mimetype": "text/x-python",
   "name": "python",
   "nbconvert_exporter": "python",
   "pygments_lexer": "ipython3",
   "version": "3.4.3"
  }
 },
 "nbformat": 4,
 "nbformat_minor": 2
}
